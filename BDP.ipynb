{
 "cells": [
  {
   "cell_type": "code",
   "execution_count": 76,
   "metadata": {},
   "outputs": [
    {
     "name": "stdout",
     "output_type": "stream",
     "text": [
      "Accuracy: 0.0\n",
      "[7, 7]\n",
      "    Diameter\n",
      "57         6\n",
      "26         6\n",
      "[[-1.  1.  0.]\n",
      " [ 1. -1.  0.]]\n"
     ]
    },
    {
     "name": "stderr",
     "output_type": "stream",
     "text": [
      "C:\\Users\\tgrim\\AppData\\Local\\Packages\\PythonSoftwareFoundation.Python.3.10_qbz5n2kfra8p0\\LocalCache\\local-packages\\Python310\\site-packages\\sklearn\\neighbors\\_classification.py:207: DataConversionWarning: A column-vector y was passed when a 1d array was expected. Please change the shape of y to (n_samples,), for example using ravel().\n",
      "  return self._fit(X, y)\n"
     ]
    }
   ],
   "source": [
    "from sklearn import metrics,preprocessing\n",
    "import pandas as pd\n",
    "import numpy as np\n",
    "from sklearn.preprocessing import LabelEncoder, StandardScaler\n",
    "from sklearn.neighbors import KNeighborsClassifier\n",
    "from sklearn.model_selection import train_test_split\n",
    "\n",
    "\n",
    "keepdims = True\n",
    "correct = 0\n",
    "modacc = .69\n",
    "att = 0\n",
    "lab = preprocessing.LabelEncoder()\n",
    "# ctrl+f your path leading to data\n",
    "bundle_data = pd.read_csv(r'G:\\ML Class\\BDP\\BDPdataClean.csv')\n",
    "\n",
    "\n",
    "\n",
    "training_data, testing_data = train_test_split(bundle_data, test_size=0.02, random_state=33)\n",
    "\n",
    "\n",
    "#get parameter and split\n",
    "X_test = testing_data[['AWG20','AWG22','AWG24']]\n",
    "y_test = testing_data[['Diameter']]\n",
    "\n",
    "X_train = training_data[['AWG20','AWG22','AWG24']]\n",
    "y_train = training_data[['Diameter']]\n",
    "\n",
    "\n",
    "#Scale paremeters\n",
    "scaler = StandardScaler()\n",
    "scaler.fit(X_train)\n",
    "X_train = scaler.transform(X_train)\n",
    "#X_train = [x for x in X_train if str(x) != 'nan']\n",
    "scaler.fit(X_test)\n",
    "X_test = scaler.transform(X_test)\n",
    "\n",
    "#run KNN\n",
    "knn = KNeighborsClassifier(n_neighbors=5)\n",
    "\n",
    "knn.fit(X_train, y_train)\n",
    "\n",
    "y_pred = knn.predict(X_test)\n",
    "\n",
    "\n",
    "\n",
    "print(\"Accuracy:\",metrics.accuracy_score(y_test, y_pred))\n",
    "\n",
    "ypred=y_pred.tolist()\n",
    "print(ypred)\n",
    "print(y_test)\n",
    "\n"
   ]
  },
  {
   "cell_type": "code",
   "execution_count": 95,
   "metadata": {},
   "outputs": [
    {
     "name": "stdout",
     "output_type": "stream",
     "text": [
      "    Diameter\n",
      "40        11\n",
      "42         6\n",
      "2          7\n",
      "49         5\n",
      "51         5\n",
      "26         6\n",
      "34         8\n",
      "36        15\n",
      "41         8\n",
      "39         7\n"
     ]
    },
    {
     "name": "stderr",
     "output_type": "stream",
     "text": [
      "C:\\Users\\tgrim\\AppData\\Local\\Temp\\ipykernel_22676\\1406006021.py:8: DataConversionWarning: A column-vector y was passed when a 1d array was expected. Please change the shape of y to (n_samples,), for example using ravel().\n",
      "  clf.fit(X_train,y_train)\n"
     ]
    },
    {
     "data": {
      "text/plain": [
       "array([11,  5,  6, 10, 10, 10,  7, 15,  5,  5], dtype=int64)"
      ]
     },
     "execution_count": 95,
     "metadata": {},
     "output_type": "execute_result"
    },
    {
     "ename": "",
     "evalue": "",
     "output_type": "error",
     "traceback": [
      "\u001b[1;31mThe Kernel crashed while executing code in the the current cell or a previous cell. Please review the code in the cell(s) to identify a possible cause of the failure. Click <a href='https://aka.ms/vscodeJupyterKernelCrash'>here</a> for more info. View Jupyter <a href='command:jupyter.viewOutput'>log</a> for further details."
     ]
    }
   ],
   "source": [
    "from sklearn.ensemble import RandomForestClassifier\n",
    "\n",
    "\n",
    "clf = RandomForestClassifier(n_jobs=2, random_state=10)\n",
    "\n",
    "\n",
    "\n",
    "clf.fit(X_train,y_train)\n",
    "print(y_test)\n",
    "clf.predict(X_test)\n",
    "\n",
    "\n",
    "\n",
    "\n"
   ]
  }
 ],
 "metadata": {
  "kernelspec": {
   "display_name": "Python 3.10.7 64-bit (microsoft store)",
   "language": "python",
   "name": "python3"
  },
  "language_info": {
   "codemirror_mode": {
    "name": "ipython",
    "version": 3
   },
   "file_extension": ".py",
   "mimetype": "text/x-python",
   "name": "python",
   "nbconvert_exporter": "python",
   "pygments_lexer": "ipython3",
   "version": "3.10.9 (tags/v3.10.9:1dd9be6, Dec  6 2022, 20:01:21) [MSC v.1934 64 bit (AMD64)]"
  },
  "orig_nbformat": 4,
  "vscode": {
   "interpreter": {
    "hash": "7f1d4251c4141baa5661f8f74a8e80b938f6475fb454e201b2e7b98002a2bbdf"
   }
  }
 },
 "nbformat": 4,
 "nbformat_minor": 2
}
